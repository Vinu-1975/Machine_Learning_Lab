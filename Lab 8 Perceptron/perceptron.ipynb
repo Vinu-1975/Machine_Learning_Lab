{
 "cells": [
  {
   "cell_type": "code",
   "execution_count": 2,
   "metadata": {},
   "outputs": [],
   "source": [
    "import pandas as pd\n",
    "import numpy as np\n",
    "import random"
   ]
  },
  {
   "cell_type": "code",
   "execution_count": 4,
   "metadata": {},
   "outputs": [],
   "source": [
    "class Perceptron:\n",
    "    def __init__(self,num_features):\n",
    "        self.weights = np.array([random.uniform(-1,1) for _ in range(num_features)])\n",
    "        self.bias = random.uniform(-1,1)\n",
    "    \n",
    "    def predict(self,x):\n",
    "        activation = np.dot(self.weights,x) + self.bias\n",
    "        return 1 if activation >=0 else 0\n",
    "    \n",
    "    def train(self,data,labels,learning_rate=0.1,epochs = 100):\n",
    "        for epoch in range(epochs):\n",
    "            for x,y in zip(data,labels):\n",
    "                prediction = self.predict(x)\n",
    "                error = y-prediction\n",
    "\n",
    "                self.weights += learning_rate * error * x\n",
    "                self.bias += learning_rate * error\n",
    "        \n",
    "        return self.weights, self.bias"
   ]
  },
  {
   "cell_type": "code",
   "execution_count": 5,
   "metadata": {},
   "outputs": [],
   "source": [
    "data = pd.DataFrame({\n",
    "    'feature1':[1,2,3,4],\n",
    "    'feature2':[2,3,1,2]\n",
    "})\n",
    "\n",
    "labels = pd.Series([1,1,0,0])\n"
   ]
  },
  {
   "cell_type": "code",
   "execution_count": 6,
   "metadata": {},
   "outputs": [
    {
     "name": "stdout",
     "output_type": "stream",
     "text": [
      "[1, 1, 0, 0]\n"
     ]
    }
   ],
   "source": [
    "p = Perceptron(num_features=data.shape[1])\n",
    "p.train(data.values,labels.values)\n",
    "\n",
    "predictions = [p.predict(x) for x in data.values]\n",
    "print(predictions)"
   ]
  },
  {
   "cell_type": "code",
   "execution_count": 7,
   "metadata": {},
   "outputs": [],
   "source": [
    "from sklearn.datasets import load_iris"
   ]
  },
  {
   "cell_type": "code",
   "execution_count": 8,
   "metadata": {},
   "outputs": [],
   "source": [
    "iris = load_iris()"
   ]
  },
  {
   "cell_type": "code",
   "execution_count": 10,
   "metadata": {},
   "outputs": [],
   "source": [
    "X = iris.data[:,(0,1)]"
   ]
  },
  {
   "cell_type": "code",
   "execution_count": 14,
   "metadata": {},
   "outputs": [],
   "source": [
    "y = (iris.target == 0).astype(np.int64)"
   ]
  },
  {
   "cell_type": "code",
   "execution_count": 16,
   "metadata": {},
   "outputs": [],
   "source": [
    "from sklearn.model_selection import train_test_split\n",
    "X_train, X_test, y_train, y_test = train_test_split(X, y, test_size=0.5, random_state=42)"
   ]
  },
  {
   "cell_type": "code",
   "execution_count": 18,
   "metadata": {},
   "outputs": [
    {
     "ename": "TypeError",
     "evalue": "Perceptron.__init__() takes 2 positional arguments but 3 were given",
     "output_type": "error",
     "traceback": [
      "\u001b[1;31m---------------------------------------------------------------------------\u001b[0m",
      "\u001b[1;31mTypeError\u001b[0m                                 Traceback (most recent call last)",
      "\u001b[1;32mc:\\Users\\sunci\\OneDrive - Amrita Vishwa Vidyapeetham\\Desktop\\AMRITA\\SEM-V\\ML\\LAB\\Lab 8 Perceptron\\perceptron.ipynb Cell 10\u001b[0m line \u001b[0;36m1\n\u001b[1;32m----> <a href='vscode-notebook-cell:/c%3A/Users/sunci/OneDrive%20-%20Amrita%20Vishwa%20Vidyapeetham/Desktop/AMRITA/SEM-V/ML/LAB/Lab%208%20Perceptron/perceptron.ipynb#X12sZmlsZQ%3D%3D?line=0'>1</a>\u001b[0m perceptron \u001b[39m=\u001b[39m Perceptron(\u001b[39m0.001\u001b[39m, \u001b[39m100\u001b[39m)\n\u001b[0;32m      <a href='vscode-notebook-cell:/c%3A/Users/sunci/OneDrive%20-%20Amrita%20Vishwa%20Vidyapeetham/Desktop/AMRITA/SEM-V/ML/LAB/Lab%208%20Perceptron/perceptron.ipynb#X12sZmlsZQ%3D%3D?line=2'>3</a>\u001b[0m perceptron\u001b[39m.\u001b[39mtrain(X_train, y_train)\n\u001b[0;32m      <a href='vscode-notebook-cell:/c%3A/Users/sunci/OneDrive%20-%20Amrita%20Vishwa%20Vidyapeetham/Desktop/AMRITA/SEM-V/ML/LAB/Lab%208%20Perceptron/perceptron.ipynb#X12sZmlsZQ%3D%3D?line=4'>5</a>\u001b[0m pred \u001b[39m=\u001b[39m perceptron\u001b[39m.\u001b[39mpredict(X_test)\n",
      "\u001b[1;31mTypeError\u001b[0m: Perceptron.__init__() takes 2 positional arguments but 3 were given"
     ]
    }
   ],
   "source": [
    "# perceptron = Perceptron(0.001, 100)\n",
    "\n",
    "# perceptron.train(X_train, y_train)\n",
    "\n",
    "# pred = perceptron.predict(X_test)"
   ]
  }
 ],
 "metadata": {
  "kernelspec": {
   "display_name": "base",
   "language": "python",
   "name": "python3"
  },
  "language_info": {
   "codemirror_mode": {
    "name": "ipython",
    "version": 3
   },
   "file_extension": ".py",
   "mimetype": "text/x-python",
   "name": "python",
   "nbconvert_exporter": "python",
   "pygments_lexer": "ipython3",
   "version": "3.11.3"
  }
 },
 "nbformat": 4,
 "nbformat_minor": 2
}
