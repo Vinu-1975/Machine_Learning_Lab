{
 "cells": [
  {
   "cell_type": "code",
   "execution_count": 2,
   "id": "35c9dff1",
   "metadata": {},
   "outputs": [],
   "source": [
    "import numpy as np"
   ]
  },
  {
   "cell_type": "code",
   "execution_count": 5,
   "id": "079271e8",
   "metadata": {},
   "outputs": [
    {
     "name": "stdout",
     "output_type": "stream",
     "text": [
      "[1 2 3 4 5]\n",
      "(5,)\n",
      "1\n"
     ]
    }
   ],
   "source": [
    "arr = np.array([1,2,3,4,5])\n",
    "print(arr)\n",
    "print(arr.shape)\n",
    "print(arr.ndim)"
   ]
  },
  {
   "cell_type": "code",
   "execution_count": 6,
   "id": "fde0dc79",
   "metadata": {},
   "outputs": [
    {
     "name": "stdout",
     "output_type": "stream",
     "text": [
      "<class 'numpy.ndarray'>\n"
     ]
    }
   ],
   "source": [
    "print(type(arr))"
   ]
  },
  {
   "cell_type": "code",
   "execution_count": 7,
   "id": "a0b9a82a",
   "metadata": {},
   "outputs": [
    {
     "name": "stdout",
     "output_type": "stream",
     "text": [
      "42\n",
      "()\n",
      "0\n"
     ]
    }
   ],
   "source": [
    "arr1 = np.array(42)\n",
    "print(arr1)\n",
    "print(arr1.shape)\n",
    "print(arr1.ndim)"
   ]
  },
  {
   "cell_type": "code",
   "execution_count": 8,
   "id": "97410759",
   "metadata": {},
   "outputs": [
    {
     "name": "stdout",
     "output_type": "stream",
     "text": [
      "[[1 2 3]\n",
      " [4 5 6]]\n",
      "(2, 3)\n",
      "2\n"
     ]
    }
   ],
   "source": [
    "arr2 = np.array([[1,2,3],[4,5,6]])\n",
    "print(arr2)\n",
    "print(arr2.shape)\n",
    "print(arr2.ndim)"
   ]
  },
  {
   "cell_type": "code",
   "execution_count": 14,
   "id": "27b8c552",
   "metadata": {},
   "outputs": [
    {
     "name": "stdout",
     "output_type": "stream",
     "text": [
      "[[[1 2 3]\n",
      "  [4 5 6]]\n",
      "\n",
      " [[1 2 3]\n",
      "  [4 5 6]]]\n",
      "(2, 2, 3)\n",
      "3\n"
     ]
    }
   ],
   "source": [
    "arr3 = np.array([[[1,2,3],[4,5,6]],[[1,2,3],[4,5,6]]])\n",
    "print(arr3)\n",
    "print(arr3.shape)\n",
    "print(arr3.ndim)"
   ]
  },
  {
   "cell_type": "code",
   "execution_count": 17,
   "id": "2c7c4b25",
   "metadata": {
    "scrolled": false
   },
   "outputs": [
    {
     "name": "stdout",
     "output_type": "stream",
     "text": [
      "[[[[[1 2 3 4]]]]]\n",
      "number of dimensions : 5\n",
      "(1, 1, 1, 1, 4)\n"
     ]
    }
   ],
   "source": [
    "arr4 = np.array([1, 2, 3, 4], ndmin=5)\n",
    "print(arr4)\n",
    "print('number of dimensions :', arr4.ndim)\n",
    "print(arr4.shape)\n"
   ]
  },
  {
   "cell_type": "code",
   "execution_count": 18,
   "id": "213f498f",
   "metadata": {},
   "outputs": [
    {
     "name": "stdout",
     "output_type": "stream",
     "text": [
      "42 1 2 6\n"
     ]
    }
   ],
   "source": [
    "print(arr1,arr[0],arr2[0][1],arr3[0][1][2])"
   ]
  },
  {
   "cell_type": "code",
   "execution_count": 20,
   "id": "ce799f9a",
   "metadata": {},
   "outputs": [
    {
     "name": "stdout",
     "output_type": "stream",
     "text": [
      "42 1 2 6\n"
     ]
    }
   ],
   "source": [
    "print(arr1,arr[0],arr2[0,1],arr3[0,1,2])"
   ]
  },
  {
   "cell_type": "code",
   "execution_count": 21,
   "id": "318657ec",
   "metadata": {},
   "outputs": [
    {
     "name": "stdout",
     "output_type": "stream",
     "text": [
      "[[1 2 3]\n",
      " [4 5 6]] 3\n"
     ]
    }
   ],
   "source": [
    "print(arr2,arr2[-2,-1])"
   ]
  },
  {
   "cell_type": "code",
   "execution_count": 22,
   "id": "55d650d8",
   "metadata": {},
   "outputs": [
    {
     "name": "stdout",
     "output_type": "stream",
     "text": [
      "[2 3 4 5]\n",
      "[3 4 5 6]\n"
     ]
    }
   ],
   "source": [
    "arr4 = np.array([1,2,3,4,5,6,7])\n",
    "print(arr4[1:5])\n",
    "print(arr4[-5:-1])"
   ]
  },
  {
   "cell_type": "code",
   "execution_count": 24,
   "id": "8e4325f2",
   "metadata": {},
   "outputs": [
    {
     "name": "stdout",
     "output_type": "stream",
     "text": [
      "[1 3 5 7]\n",
      "[1 3 5 7]\n"
     ]
    }
   ],
   "source": [
    "print(arr4[0:7:2])\n",
    "print(arr4[::2])"
   ]
  },
  {
   "cell_type": "code",
   "execution_count": 25,
   "id": "9f25f0f6",
   "metadata": {},
   "outputs": [
    {
     "data": {
      "text/plain": [
       "array([[ 1,  2,  3,  4,  5],\n",
       "       [ 6,  7,  8,  9, 10]])"
      ]
     },
     "execution_count": 25,
     "metadata": {},
     "output_type": "execute_result"
    }
   ],
   "source": [
    "arr5 = np.array([[1,2,3,4,5],[6,7,8,9,10]])\n",
    "arr5"
   ]
  },
  {
   "cell_type": "code",
   "execution_count": 27,
   "id": "8e7b9b58",
   "metadata": {},
   "outputs": [
    {
     "name": "stdout",
     "output_type": "stream",
     "text": [
      "[7 8 9]\n",
      "[7 8 9]\n"
     ]
    }
   ],
   "source": [
    "print(arr5[1][1:4])\n",
    "print(arr5[1,1:4])"
   ]
  },
  {
   "cell_type": "code",
   "execution_count": 28,
   "id": "d8959cbd",
   "metadata": {},
   "outputs": [
    {
     "name": "stdout",
     "output_type": "stream",
     "text": [
      "int32\n"
     ]
    }
   ],
   "source": [
    "print(arr5.dtype)"
   ]
  },
  {
   "cell_type": "code",
   "execution_count": 29,
   "id": "ee2dba05",
   "metadata": {},
   "outputs": [
    {
     "name": "stdout",
     "output_type": "stream",
     "text": [
      "<U6\n"
     ]
    }
   ],
   "source": [
    "arr6 = np.array(['apple','banana','cherry'])\n",
    "print(arr6.dtype)"
   ]
  },
  {
   "cell_type": "code",
   "execution_count": 31,
   "id": "b09902fb",
   "metadata": {},
   "outputs": [
    {
     "name": "stdout",
     "output_type": "stream",
     "text": [
      "['1' '2' '3' '4' '5']\n",
      "<U1\n"
     ]
    }
   ],
   "source": [
    "arr = np.array([1,2,3,4,5],dtype = 'U')\n",
    "print(arr)\n",
    "print(arr.dtype)"
   ]
  },
  {
   "cell_type": "code",
   "execution_count": 33,
   "id": "83ce7033",
   "metadata": {},
   "outputs": [
    {
     "name": "stdout",
     "output_type": "stream",
     "text": [
      "[1 2 3]\n",
      "int32\n"
     ]
    }
   ],
   "source": [
    "arr = np.array(['1','2','3'],dtype = 'i') \n",
    "print(arr) \n",
    "print(arr.dtype)"
   ]
  },
  {
   "cell_type": "code",
   "execution_count": 34,
   "id": "78205bfb",
   "metadata": {},
   "outputs": [
    {
     "ename": "ValueError",
     "evalue": "invalid literal for int() with base 10: 'a'",
     "output_type": "error",
     "traceback": [
      "\u001b[1;31m---------------------------------------------------------------------------\u001b[0m",
      "\u001b[1;31mValueError\u001b[0m                                Traceback (most recent call last)",
      "Cell \u001b[1;32mIn[34], line 1\u001b[0m\n\u001b[1;32m----> 1\u001b[0m arr \u001b[38;5;241m=\u001b[39m np\u001b[38;5;241m.\u001b[39marray([\u001b[38;5;124m'\u001b[39m\u001b[38;5;124ma\u001b[39m\u001b[38;5;124m'\u001b[39m,\u001b[38;5;124m'\u001b[39m\u001b[38;5;124m2\u001b[39m\u001b[38;5;124m'\u001b[39m,\u001b[38;5;124m'\u001b[39m\u001b[38;5;124m3\u001b[39m\u001b[38;5;124m'\u001b[39m],dtype \u001b[38;5;241m=\u001b[39m \u001b[38;5;124m'\u001b[39m\u001b[38;5;124mi\u001b[39m\u001b[38;5;124m'\u001b[39m)\n",
      "\u001b[1;31mValueError\u001b[0m: invalid literal for int() with base 10: 'a'"
     ]
    }
   ],
   "source": [
    "arr = np.array(['a','2','3'],dtype = 'i')"
   ]
  },
  {
   "cell_type": "code",
   "execution_count": 35,
   "id": "db962ddf",
   "metadata": {},
   "outputs": [
    {
     "name": "stdout",
     "output_type": "stream",
     "text": [
      "[3 2 4]\n",
      "int32\n"
     ]
    }
   ],
   "source": [
    "arr = np.array([3.447,2.141,4.15])\n",
    "newarr = arr.astype('i')\n",
    "print(newarr)\n",
    "print(newarr.dtype)"
   ]
  },
  {
   "cell_type": "code",
   "execution_count": 39,
   "id": "4ca14b92",
   "metadata": {},
   "outputs": [
    {
     "name": "stdout",
     "output_type": "stream",
     "text": [
      "[43  2  3  4  5]\n",
      "[1 2 3 4 5]\n"
     ]
    }
   ],
   "source": [
    "arr = np.array([1,2,3,4,5])\n",
    "x = arr.copy()\n",
    "arr[0] = 43\n",
    "print(arr)\n",
    "print(x)"
   ]
  },
  {
   "cell_type": "code",
   "execution_count": 38,
   "id": "d53fe39a",
   "metadata": {},
   "outputs": [
    {
     "name": "stdout",
     "output_type": "stream",
     "text": [
      "[42  2  3  4  5]\n",
      "[42  2  3  4  5]\n"
     ]
    }
   ],
   "source": [
    "arr = np.array([1,2,3,4,5])\n",
    "x = arr.view()\n",
    "arr[0] = 42\n",
    "print(arr)\n",
    "print(x)"
   ]
  },
  {
   "cell_type": "code",
   "execution_count": 3,
   "id": "32c57288",
   "metadata": {},
   "outputs": [
    {
     "name": "stdout",
     "output_type": "stream",
     "text": [
      "[[ 1  2  3]\n",
      " [ 4  5  6]\n",
      " [ 7  8  9]\n",
      " [10 11 12]]\n",
      "2\n",
      "(4, 3)\n"
     ]
    }
   ],
   "source": [
    "arr = np.array([1,2,3,4,5,6,7,8,9,10,11,12])\n",
    "newarr = arr.reshape(4,3)\n",
    "print(newarr)\n",
    "print(newarr.ndim)\n",
    "print(newarr.shape)"
   ]
  },
  {
   "cell_type": "code",
   "execution_count": 4,
   "id": "fdab0b13",
   "metadata": {},
   "outputs": [
    {
     "name": "stdout",
     "output_type": "stream",
     "text": [
      "[[[ 1  2]\n",
      "  [ 3  4]\n",
      "  [ 5  6]]\n",
      "\n",
      " [[ 7  8]\n",
      "  [ 9 10]\n",
      "  [11 12]]]\n",
      "(2, 3, 2)\n",
      "3\n"
     ]
    }
   ],
   "source": [
    "newarr2 = arr.reshape(2,3,2)\n",
    "print(newarr2)\n",
    "print(newarr2.shape)\n",
    "print(newarr2.ndim)"
   ]
  },
  {
   "cell_type": "code",
   "execution_count": 7,
   "id": "6f0118ab",
   "metadata": {},
   "outputs": [
    {
     "name": "stdout",
     "output_type": "stream",
     "text": [
      "[1 2 3 4 5 6]\n",
      "1\n",
      "(6,)\n"
     ]
    }
   ],
   "source": [
    "arr =np.array([[1,2,3],[4,5,6]])\n",
    "newarr = arr.reshape(-1)\n",
    "print(newarr)\n",
    "print(newarr.ndim)\n",
    "print(newarr.shape)"
   ]
  },
  {
   "cell_type": "code",
   "execution_count": 9,
   "id": "7129a7f4",
   "metadata": {},
   "outputs": [
    {
     "name": "stdout",
     "output_type": "stream",
     "text": [
      "b'1'\n",
      "b'2'\n",
      "b'3'\n"
     ]
    }
   ],
   "source": [
    "arr = np.array([1,2,3],dtype='S')\n",
    "for x in arr:\n",
    "    print(x)"
   ]
  },
  {
   "cell_type": "code",
   "execution_count": 12,
   "id": "0d9bd916",
   "metadata": {},
   "outputs": [
    {
     "name": "stdout",
     "output_type": "stream",
     "text": [
      "[[1 2 3]\n",
      " [4 5 6]]\n",
      "[[ 7  8  9]\n",
      " [10 11 12]]\n",
      "\n",
      "[1 2 3]\n",
      "[4 5 6]\n",
      "[7 8 9]\n",
      "[10 11 12]\n",
      "\n",
      "1\n",
      "2\n",
      "3\n",
      "4\n",
      "5\n",
      "6\n",
      "7\n",
      "8\n",
      "9\n",
      "10\n",
      "11\n",
      "12\n"
     ]
    }
   ],
   "source": [
    "arr = np.array([[[1,2,3],[4,5,6]],[[7,8,9],[10,11,12]]])\n",
    "for x in arr:\n",
    "    print(x)\n",
    "print()\n",
    "for x in arr:\n",
    "    for y in x:\n",
    "        print(y)\n",
    "print()\n",
    "for x in arr:\n",
    "    for y in x:\n",
    "        for z in y:\n",
    "            print(z)"
   ]
  },
  {
   "cell_type": "code",
   "execution_count": 13,
   "id": "38da662e",
   "metadata": {},
   "outputs": [
    {
     "name": "stdout",
     "output_type": "stream",
     "text": [
      "[1 2 3 4 5 6]\n"
     ]
    }
   ],
   "source": [
    "arr1 = np.array([1,2,3])\n",
    "arr2 = np.array([4,5,6])\n",
    "arr = np.concatenate((arr1,arr2))\n",
    "print(arr)"
   ]
  },
  {
   "cell_type": "code",
   "execution_count": 16,
   "id": "bde19785",
   "metadata": {},
   "outputs": [
    {
     "name": "stdout",
     "output_type": "stream",
     "text": [
      "[[1 2 5 6]\n",
      " [3 4 7 8]]\n"
     ]
    }
   ],
   "source": [
    "arr1 = np.array([[1, 2], [3, 4]])\n",
    "arr2 = np.array([[5, 6], [7, 8]])\n",
    "arr = np.concatenate((arr1,arr2),axis = 1)\n",
    "print(arr)"
   ]
  },
  {
   "cell_type": "code",
   "execution_count": 17,
   "id": "ae2c8dde",
   "metadata": {},
   "outputs": [
    {
     "name": "stdout",
     "output_type": "stream",
     "text": [
      "[[1 2]\n",
      " [3 4]\n",
      " [5 6]\n",
      " [7 8]]\n"
     ]
    }
   ],
   "source": [
    "arr1 = np.array([[1, 2], [3, 4]])\n",
    "arr2 = np.array([[5, 6], [7, 8]])\n",
    "arr = np.concatenate((arr1, arr2), axis=0)\n",
    "print(arr)\n"
   ]
  },
  {
   "cell_type": "code",
   "execution_count": 21,
   "id": "8b6f2bb9",
   "metadata": {},
   "outputs": [
    {
     "name": "stdout",
     "output_type": "stream",
     "text": [
      "[array([1, 2, 3, 4, 5]), array([6, 7, 8, 9]), array([10, 11, 12, 13])]\n"
     ]
    }
   ],
   "source": [
    "arr = np.array([1, 2, 3, 4, 5, 6, 7,8,9,10,11,12,13])\n",
    "newarr = np.array_split(arr,3)\n",
    "print(newarr)"
   ]
  },
  {
   "cell_type": "code",
   "execution_count": 19,
   "id": "19ef6191",
   "metadata": {},
   "outputs": [
    {
     "name": "stdout",
     "output_type": "stream",
     "text": [
      "[1 2 3]\n"
     ]
    }
   ],
   "source": [
    "print(newarr[0])"
   ]
  },
  {
   "cell_type": "code",
   "execution_count": 22,
   "id": "72114b72",
   "metadata": {},
   "outputs": [
    {
     "name": "stdout",
     "output_type": "stream",
     "text": [
      "[0 1 2 3]\n"
     ]
    }
   ],
   "source": [
    "arr = np.array([3,2,0,1])\n",
    "print(np.sort(arr))"
   ]
  },
  {
   "cell_type": "code",
   "execution_count": 23,
   "id": "805ba8d2",
   "metadata": {},
   "outputs": [
    {
     "name": "stdout",
     "output_type": "stream",
     "text": [
      "[[2 3 4]\n",
      " [0 1 5]]\n"
     ]
    }
   ],
   "source": [
    "arr2 = np.array([[3, 2, 4], [5, 0, 1]])\n",
    "print(np.sort(arr2))"
   ]
  },
  {
   "cell_type": "code",
   "execution_count": 26,
   "id": "fdc414cf",
   "metadata": {},
   "outputs": [
    {
     "name": "stdout",
     "output_type": "stream",
     "text": [
      "29\n"
     ]
    }
   ],
   "source": [
    "from numpy import random\n",
    "x = random.randint(100)\n",
    "print(x)"
   ]
  },
  {
   "cell_type": "code",
   "execution_count": 27,
   "id": "b1c83e0d",
   "metadata": {},
   "outputs": [
    {
     "name": "stdout",
     "output_type": "stream",
     "text": [
      "0.9646815095501043\n"
     ]
    }
   ],
   "source": [
    "x1 = random.rand()\n",
    "print(x1)"
   ]
  },
  {
   "cell_type": "code",
   "execution_count": 28,
   "id": "2b02b94d",
   "metadata": {},
   "outputs": [
    {
     "name": "stdout",
     "output_type": "stream",
     "text": [
      "[[94 42 70 88  8]\n",
      " [97 78 50 52 89]\n",
      " [14 59  0 94 62]]\n"
     ]
    }
   ],
   "source": [
    "x2 = random.randint(100,size=(3,5))\n",
    "print(x2)"
   ]
  },
  {
   "cell_type": "code",
   "execution_count": 29,
   "id": "34c0c0bf",
   "metadata": {},
   "outputs": [
    {
     "name": "stdout",
     "output_type": "stream",
     "text": [
      "[[0.78020585 0.04692559 0.46360877 0.94667356 0.26741298]\n",
      " [0.41920753 0.37920802 0.07024287 0.36389095 0.77224424]\n",
      " [0.69428604 0.06551552 0.92051154 0.31924    0.59146284]]\n"
     ]
    }
   ],
   "source": [
    "x3 = random.rand(3,5)\n",
    "print(x3)"
   ]
  },
  {
   "cell_type": "code",
   "execution_count": 30,
   "id": "e2cf7b77",
   "metadata": {},
   "outputs": [
    {
     "name": "stdout",
     "output_type": "stream",
     "text": [
      "[[ 5  4  6]\n",
      " [ 7  2  3]\n",
      " [ 4  7 10]]\n",
      "[[ 2  1  3]\n",
      " [ 4 -1  0]\n",
      " [ 1  4  7]]\n",
      "[[15 10 20]\n",
      " [25  0  5]\n",
      " [10 25 40]]\n"
     ]
    }
   ],
   "source": [
    "a = np.array([[3, 2, 4], [5, 0, 1], [2, 5, 8]])\n",
    "b = np.array([[1, 0, 5], [2, 3, 7], [6, 4, 5]])\n",
    "print(a+2)\n",
    "print(a-1)\n",
    "print(a*5)"
   ]
  },
  {
   "cell_type": "code",
   "execution_count": 32,
   "id": "556e0fa7",
   "metadata": {},
   "outputs": [
    {
     "name": "stdout",
     "output_type": "stream",
     "text": [
      "[[3 2 4]\n",
      " [5 0 1]\n",
      " [2 5 8]]\n",
      "\n",
      "[[3 5 2]\n",
      " [2 0 5]\n",
      " [4 1 8]]\n"
     ]
    }
   ],
   "source": [
    "a = np.array([[3, 2, 4], [5, 0, 1], [2, 5, 8]])\n",
    "print(a)\n",
    "ta = np.transpose(a)\n",
    "print()\n",
    "print(ta)"
   ]
  },
  {
   "cell_type": "code",
   "execution_count": 35,
   "id": "d84fb479",
   "metadata": {},
   "outputs": [
    {
     "name": "stdout",
     "output_type": "stream",
     "text": [
      "[ 5  7  9 11 13 15 17 19 21 23 25 27 29 31 33 35 37 39 41 43 45 47 49]\n",
      "27.0\n",
      "13.2664991614216\n",
      "27.0\n"
     ]
    }
   ],
   "source": [
    "a = np.arange(5,50,2)\n",
    "print(a)\n",
    "print(np.mean(a))\n",
    "print(np.std(a))\n",
    "print(np.median(a))"
   ]
  },
  {
   "cell_type": "code",
   "execution_count": 36,
   "id": "8258ca0f",
   "metadata": {},
   "outputs": [
    {
     "name": "stdout",
     "output_type": "stream",
     "text": [
      "5\n",
      "49\n"
     ]
    }
   ],
   "source": [
    "print(np.min(a))\n",
    "print(np.max(a))"
   ]
  },
  {
   "cell_type": "code",
   "execution_count": 37,
   "id": "c7ad6a02",
   "metadata": {},
   "outputs": [
    {
     "name": "stdout",
     "output_type": "stream",
     "text": [
      "[[ 3  2  4]\n",
      " [10  0  1]\n",
      " [ 7  5  8]]\n",
      "[3 0 1]\n",
      "[ 4 10  8]\n"
     ]
    }
   ],
   "source": [
    "a = np.array([[3, 2, 4], [10, 0, 1], [7, 5, 8]])\n",
    "print(a)\n",
    "print(np.min(a,axis = 0))\n",
    "print(np.max(a,axis = 1))"
   ]
  },
  {
   "cell_type": "code",
   "execution_count": 38,
   "id": "4202e1f9",
   "metadata": {},
   "outputs": [
    {
     "name": "stdout",
     "output_type": "stream",
     "text": [
      "[7 7 5 7 5 3 5 7 5 7 7 5 7 3 3 5 7 7 7 7 7 7 7 5 3 7 7 7 5 7 5 7 7 7 7 5 7\n",
      " 7 7 5 5 7 5 5 7 5 5 7 7 5 5 7 5 3 7 5 7 7 5 7 7 7 3 3 7 7 3 7 5 7 3 7 7 3\n",
      " 5 5 7 7 5 5 5 7 7 7 7 5 5 7 5 7 5 5 3 5 3 7 7 7 7 7]\n"
     ]
    }
   ],
   "source": [
    "from numpy import random\n",
    "x = random.choice([3,5,7,9],p=[0.1,0.3,0.6,0.0],size=(100))\n",
    "print(x)"
   ]
  },
  {
   "cell_type": "code",
   "execution_count": 40,
   "id": "98e636ec",
   "metadata": {},
   "outputs": [
    {
     "name": "stdout",
     "output_type": "stream",
     "text": [
      "[[5 3 7 7 5]\n",
      " [7 7 7 7 7]\n",
      " [7 3 5 5 7]]\n"
     ]
    }
   ],
   "source": [
    "y = random.choice([3,5,7,9],p=[0.1,0.3,0.6,0.0],size=(3,5))\n",
    "print(y)"
   ]
  },
  {
   "cell_type": "code",
   "execution_count": 41,
   "id": "ca45f104",
   "metadata": {},
   "outputs": [
    {
     "name": "stdout",
     "output_type": "stream",
     "text": [
      "[[-0.18298843  0.90011202  0.54533223]\n",
      " [-0.60290441 -2.26354605 -0.34273733]]\n"
     ]
    }
   ],
   "source": [
    "x = random.normal(size=(2,3))\n",
    "print(x)"
   ]
  },
  {
   "cell_type": "code",
   "execution_count": null,
   "id": "df28245b",
   "metadata": {},
   "outputs": [],
   "source": []
  }
 ],
 "metadata": {
  "kernelspec": {
   "display_name": "Python 3 (ipykernel)",
   "language": "python",
   "name": "python3"
  },
  "language_info": {
   "codemirror_mode": {
    "name": "ipython",
    "version": 3
   },
   "file_extension": ".py",
   "mimetype": "text/x-python",
   "name": "python",
   "nbconvert_exporter": "python",
   "pygments_lexer": "ipython3",
   "version": "3.11.3"
  }
 },
 "nbformat": 4,
 "nbformat_minor": 5
}
